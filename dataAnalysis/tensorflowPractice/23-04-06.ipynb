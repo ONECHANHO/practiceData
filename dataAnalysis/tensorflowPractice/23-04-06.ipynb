{
 "cells": [
  {
   "cell_type": "code",
   "execution_count": 58,
   "id": "68b402c6",
   "metadata": {},
   "outputs": [
    {
     "name": "stdout",
     "output_type": "stream",
     "text": [
      "[[1.  2.  3. ]\n",
      " [1.2 3.2 4.1]]\n",
      "[3 2]\n",
      "[5 5]\n",
      "<tf.Variable 'Variable:0' shape=(2,) dtype=int32, numpy=array([5, 5], dtype=int32)>\n"
     ]
    }
   ],
   "source": [
    "import tensorflow as tf\n",
    "\n",
    "t1 = tf.constant([3,4,5])        #텐서 선언\n",
    "t2 = tf.constant([6,5,4])\n",
    "\n",
    "t3 = tf.constant([[1,2],\n",
    "                  [3,4]])\n",
    "\n",
    "t4 = tf.constant([[2,5],\n",
    "                  [4,4]])\n",
    "\n",
    "tf.add(t3,t4)               # 텐서 덧셈\n",
    "tf.subtract(t1,t2)          #텐서 뺄셈\n",
    "# tf.add(t3,t1)             #tensor의 shape(차원)가 맞아야 계산 됨\n",
    "tf.divide(t1,t2)            #텐서 나눗셈\n",
    "tf.multiply(t1,t2)          #텐서 곱셈\n",
    "\n",
    "tf.matmul(t3,t4)            #텐서 행렬곱 (2차원부터 가능)\n",
    "\n",
    "\n",
    "t5 = tf.zeros(5)              #0이 10개 담긴 텐서 선언\n",
    "t6 = tf.zeros([2,2])          #2행 2열으로 열 담긴 텐서 선언\n",
    "\n",
    "t7 = tf.zeros([2,2,3])        # 2행 3열의 텐서 2번 선언\n",
    "\n",
    "t7.shape                      #shape 출력\n",
    "\n",
    "\n",
    "t8 = tf.constant([['a','b'],\n",
    "                 ['c','d']])                    #dtype= int, float, string\n",
    "\n",
    "w1 = tf.Variable([[1.0,2.0,3.0],\n",
    "                  [1.2,3.2,4.1]])            #weight 값     Variable-> 변경 가능.   매우 많이 쓰임.\n",
    "\n",
    "print(w1.numpy())\n",
    "\n",
    "w2 = tf.Variable([3,2])\n",
    "print(w2.numpy())\n",
    "w2.assign([5,5])              #변수 변경\n",
    "\n",
    "print(w2.numpy())\n",
    "\n",
    "print(w2)"
   ]
  },
  {
   "cell_type": "code",
   "execution_count": null,
   "id": "35139ea9",
   "metadata": {},
   "outputs": [],
   "source": []
  }
 ],
 "metadata": {
  "kernelspec": {
   "display_name": "Python 3 (ipykernel)",
   "language": "python",
   "name": "python3"
  },
  "language_info": {
   "codemirror_mode": {
    "name": "ipython",
    "version": 3
   },
   "file_extension": ".py",
   "mimetype": "text/x-python",
   "name": "python",
   "nbconvert_exporter": "python",
   "pygments_lexer": "ipython3",
   "version": "3.8.16"
  }
 },
 "nbformat": 4,
 "nbformat_minor": 5
}
